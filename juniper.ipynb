{
 "cells": [
  {
   "cell_type": "code",
   "execution_count": 34,
   "metadata": {},
   "outputs": [
    {
     "data": {
      "text/plain": [
       "[{'Index': 'TWII',\n",
       "  'Date': '2005-03-23',\n",
       "  'Open': 6005.359863,\n",
       "  'High': 6023.759766,\n",
       "  'Low': 5970.200195,\n",
       "  'Close': 6019.490234,\n",
       "  'Adj Close': 6019.467773,\n",
       "  'Volume': 2733200.0,\n",
       "  'CloseUSD': 240.77960936}]"
      ]
     },
     "execution_count": 34,
     "metadata": {},
     "output_type": "execute_result"
    }
   ],
   "source": [
    "import pandas as pd\n",
    "import matplotlib.pyplot as plt\n",
    "\n",
    "\n",
    "#for count, i in enumerate(consumer):\n",
    "#    with s3.open(\"s3://kafka-stock-market-tutorial-youtube-darshil/stock_market_{}.json\".format(count), 'w') as file:\n",
    "#        json.dump(i.value, file)\n",
    "\n",
    "df = pd.read_csv(\"indexProcessed.csv\")\n",
    "df.head()\n",
    "\n",
    "df.sample(1).to_dict(orient=\"records\")[0]\n",
    "\n",
    "# for col in df.columns:\n",
    "#    print(df[col])\n",
    "df.sample().to_dict(orient=\"records\")\n",
    "# df.plot(kind=\"area\")\n",
    "# plt.show()"
   ]
  },
  {
   "cell_type": "code",
   "execution_count": 22,
   "metadata": {},
   "outputs": [
    {
     "data": {
      "text/plain": [
       "()"
      ]
     },
     "execution_count": 22,
     "metadata": {},
     "output_type": "execute_result"
    }
   ],
   "source": [
    "()"
   ]
  }
 ],
 "metadata": {
  "kernelspec": {
   "display_name": "Python 3",
   "language": "python",
   "name": "python3"
  },
  "language_info": {
   "codemirror_mode": {
    "name": "ipython",
    "version": 3
   },
   "file_extension": ".py",
   "mimetype": "text/x-python",
   "name": "python",
   "nbconvert_exporter": "python",
   "pygments_lexer": "ipython3",
   "version": "3.10.7"
  },
  "orig_nbformat": 4
 },
 "nbformat": 4,
 "nbformat_minor": 2
}
